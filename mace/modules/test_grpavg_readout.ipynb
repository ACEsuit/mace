{
 "cells": [
  {
   "cell_type": "code",
   "execution_count": 188,
   "metadata": {},
   "outputs": [],
   "source": [
    "from abc import abstractmethod\n",
    "from typing import Callable, List, Optional, Tuple, Union\n",
    "\n",
    "import numpy as np\n",
    "from torch.nn.functional import silu\n",
    "from e3nn import nn, o3\n",
    "from e3nn.util.jit import compile_mode\n",
    "import torch\n",
    "# Set the default floating-point type to float64\n",
    "torch.set_default_dtype(torch.float64)\n",
    "\n",
    "class GroupavgReadoutBlock(torch.nn.Module):\n",
    "\n",
    "    def __init__(self, irreps_in: o3.Irreps,\n",
    "                 gate: Optional[Callable],\n",
    "                 irrep_out: o3.Irreps=o3.Irreps(\"0e\"),\n",
    "                ):\n",
    "        super().__init__()\n",
    "        self.irreps_in = irreps_in\n",
    "        self.non_linearity = gate\n",
    "        input_size = irreps_in.dim\n",
    "        output_size = irrep_out.dim\n",
    "        hidden_size = 128\n",
    "        self.MLP = torch.nn.Sequential(\n",
    "            torch.nn.Linear(input_size, hidden_size),\n",
    "            torch.nn.BatchNorm1d(hidden_size),\n",
    "            torch.nn.SiLU(),\n",
    "            torch.nn.Linear(hidden_size, output_size)\n",
    "        )\n",
    "        self.register_buffer(\"SO3_grid_1_0\", \n",
    "            o3.quaternion_to_matrix(torch.load(\"/lustre/fsn1/projects/rech/gax/unh55hx/misc/SO3_grid/SO3_grid_1_0.pt\").to(torch.get_default_dtype())))\n",
    "        self.register_buffer(\"SO3_grid_1_1\", \n",
    "            o3.quaternion_to_matrix(torch.load(\"/lustre/fsn1/projects/rech/gax/unh55hx/misc/SO3_grid/SO3_grid_1_1.pt\").to(torch.get_default_dtype())))\n",
    "        self.register_buffer(\"SO3_grid_1_2\", \n",
    "            o3.quaternion_to_matrix(torch.load(\"/lustre/fsn1/projects/rech/gax/unh55hx/misc/SO3_grid/SO3_grid_1_2.pt\").to(torch.get_default_dtype())))\n",
    "        self.register_buffer(\"SO3_grid_2_0\", \n",
    "            o3.quaternion_to_matrix(torch.load(\"/lustre/fsn1/projects/rech/gax/unh55hx/misc/SO3_grid/SO3_grid_2_0.pt\").to(torch.get_default_dtype())))\n",
    "        self.register_buffer(\"SO3_grid_2_1\", \n",
    "            o3.quaternion_to_matrix(torch.load(\"/lustre/fsn1/projects/rech/gax/unh55hx/misc/SO3_grid/SO3_grid_2_1.pt\").to(torch.get_default_dtype())))\n",
    "        self.register_buffer(\"SO3_grid_2_2\", \n",
    "            o3.quaternion_to_matrix(torch.load(\"/lustre/fsn1/projects/rech/gax/unh55hx/misc/SO3_grid/SO3_grid_2_2.pt\").to(torch.get_default_dtype())))\n",
    "\n",
    "\n",
    "    def forward(self, x: torch.Tensor, heads: Optional[torch.Tensor] = None):\n",
    "        rand_D = o3.rand_matrix(device=x.device)\n",
    "        gs = self.SO3_grid_1_2 @ rand_D       # [72, 3, 3]\n",
    "        Ds = self.irreps_in.D_from_matrix(gs) # [72, D, D]\n",
    "\n",
    "        xs = torch.einsum(\"nd,rjd->nrj\", x, Ds) # [n_graphs, D], [72, D, D] -> [n_graphs, 72, D]\n",
    "        print(xs.shape)\n",
    "        outs = self.MLP(xs.view(-1, xs.size(-1)))                    # [n_graph, 72, 1]\n",
    "        out = torch.mean(outs.view(*xs.shape[:-1], -1), dim=1, keepdim=False)\n",
    "        return out"
   ]
  },
  {
   "cell_type": "code",
   "execution_count": 189,
   "metadata": {},
   "outputs": [],
   "source": [
    "irreps_in = o3.Irreps(\"3x0e+1x1o+1x2e\")\n",
    "n_graph = 32\n",
    "readout = GroupavgReadoutBlock(irreps_in=irreps_in, gate=torch.nn.SiLU)"
   ]
  },
  {
   "cell_type": "code",
   "execution_count": 205,
   "metadata": {},
   "outputs": [
    {
     "name": "stdout",
     "output_type": "stream",
     "text": [
      "torch.Size([32, 4608, 11])\n",
      "torch.Size([32, 4608, 11])\n",
      "tensor(0.0003, grad_fn=<MeanBackward0>)\n"
     ]
    }
   ],
   "source": [
    "x = irreps_in.randn(n_graph, -1)\n",
    "\n",
    "out = readout(x)\n",
    "\n",
    "rot_x = x @ irreps_in.D_from_matrix(o3.rand_matrix())\n",
    "\n",
    "rot_out = readout(rot_x)\n",
    "# print(x - rot_x)\n",
    "print((rot_out - out).abs().mean())"
   ]
  },
  {
   "cell_type": "code",
   "execution_count": null,
   "metadata": {},
   "outputs": [],
   "source": []
  },
  {
   "cell_type": "code",
   "execution_count": null,
   "metadata": {},
   "outputs": [],
   "source": []
  }
 ],
 "metadata": {
  "kernelspec": {
   "display_name": "Python 3 (ipykernel)",
   "language": "python",
   "name": "python3"
  }
 },
 "nbformat": 4,
 "nbformat_minor": 2
}
